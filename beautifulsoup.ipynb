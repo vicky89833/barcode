{
  "nbformat": 4,
  "nbformat_minor": 0,
  "metadata": {
    "colab": {
      "provenance": [],
      "authorship_tag": "ABX9TyPwo5Ql6zXQqhy+GkM7HJJG",
      "include_colab_link": true
    },
    "kernelspec": {
      "name": "python3",
      "display_name": "Python 3"
    },
    "language_info": {
      "name": "python"
    }
  },
  "cells": [
    {
      "cell_type": "markdown",
      "metadata": {
        "id": "view-in-github",
        "colab_type": "text"
      },
      "source": [
        "<a href=\"https://colab.research.google.com/github/vicky89833/barcode/blob/main/beautifulsoup.ipynb\" target=\"_parent\"><img src=\"https://colab.research.google.com/assets/colab-badge.svg\" alt=\"Open In Colab\"/></a>"
      ]
    },
    {
      "cell_type": "code",
      "execution_count": null,
      "metadata": {
        "id": "I9nqwUb1hkVj"
      },
      "outputs": [],
      "source": [
        "from bs4 import BeautifulSoup\n",
        "import requests\n",
        "import smtplib\n",
        "import time\n",
        "import datetime"
      ]
    },
    {
      "cell_type": "code",
      "source": [
        "url='https://www.amazon.in/s?k=mobile+under+10000&crid=2FUORKORK3EL6&sprefix=mobile%2Caps%2C246&ref=nb_sb_ss_ts-doa-p_2_6'\n",
        "headers={\"User-Agent\": \"Mozilla/5.0 (Windows NT 10.0; Win64; x64) AppleWebKit/537.36 (KHTML, like Gecko) Chrome/121.0.0.0 Safari/537.36\"}\n",
        "page=requests.get(url,headers=headers)\n",
        "\n",
        "soup1=BeautifulSoup(page.content,\"html.parser\")\n",
        "soup2=BeautifulSoup(soup1.prettify(),\"html.parser\")\n",
        "product_title=soup2.find(attrs={\"class\":\"a-size-medium a-color-base a-text-normal\"}).get_text()\n",
        "print(product_title)\n",
        "\n"
      ],
      "metadata": {
        "colab": {
          "base_uri": "https://localhost:8080/"
        },
        "id": "4We9uaSjNmn1",
        "outputId": "1865e194-d5e9-4cca-8f2a-61f6f80d3039"
      },
      "execution_count": null,
      "outputs": [
        {
          "output_type": "stream",
          "name": "stdout",
          "text": [
            "\n",
            "                       Redmi A2 (Aqua Blue, 2GB RAM, 64GB Storage)\n",
            "                      \n"
          ]
        }
      ]
    }
  ]
}